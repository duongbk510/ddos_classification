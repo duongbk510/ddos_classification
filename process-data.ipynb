{
 "cells": [
  {
   "cell_type": "code",
   "execution_count": 1,
   "metadata": {},
   "outputs": [],
   "source": [
    "import pandas as pd"
   ]
  },
  {
   "cell_type": "code",
   "execution_count": 2,
   "metadata": {},
   "outputs": [],
   "source": [
    "from scipy.io import arff\n",
    "import numpy as np"
   ]
  },
  {
   "cell_type": "code",
   "execution_count": 3,
   "metadata": {},
   "outputs": [],
   "source": [
    "data = arff.loadarff('final dataset.arff')\n",
    "df = pd.DataFrame(data[0])\n",
    "\n",
    "# df.head()"
   ]
  },
  {
   "cell_type": "code",
   "execution_count": 4,
   "metadata": {},
   "outputs": [
    {
     "data": {
      "text/plain": [
       "(2160668, 28)"
      ]
     },
     "execution_count": 4,
     "metadata": {},
     "output_type": "execute_result"
    }
   ],
   "source": [
    "df.shape"
   ]
  },
  {
   "cell_type": "code",
   "execution_count": 5,
   "metadata": {},
   "outputs": [],
   "source": [
    "# df.dtypes"
   ]
  },
  {
   "cell_type": "code",
   "execution_count": 6,
   "metadata": {},
   "outputs": [
    {
     "data": {
      "text/plain": [
       "(2160668, 28)"
      ]
     },
     "execution_count": 6,
     "metadata": {},
     "output_type": "execute_result"
    }
   ],
   "source": [
    "# df.plot.scatter(x=\"SRC_ADD\", y=\"DES_ADD\")\n",
    "\n",
    "# plt.show()\n",
    "df.drop_duplicates().shape"
   ]
  },
  {
   "cell_type": "code",
   "execution_count": 7,
   "metadata": {},
   "outputs": [],
   "source": [
    "# import numpy as np\n",
    "# labels = np.asarray(df.PKT_CLASS)"
   ]
  },
  {
   "cell_type": "code",
   "execution_count": 8,
   "metadata": {},
   "outputs": [],
   "source": [
    "from sklearn.preprocessing import LabelEncoder\n",
    "le = LabelEncoder()\n",
    "df['PKT_TYPE'] = le.fit_transform(df['PKT_TYPE'])\n",
    "# ,'FLAGS', 'NODE_NAME_FROM', 'NODE_NAME_TO', 'PKT_CLASS'])\n",
    "df['FLAGS'] = le.fit_transform(df['FLAGS'])\n",
    "df['NODE_NAME_FROM'] = le.fit_transform(df['NODE_NAME_FROM'])\n",
    "df['NODE_NAME_TO'] = le.fit_transform(df['NODE_NAME_TO'])\n",
    "df['PKT_CLASS'] = le.fit_transform(df['PKT_CLASS'])\n",
    "# apply encoding to labels\n",
    "# labels = le.transform(labels)"
   ]
  },
  {
   "cell_type": "code",
   "execution_count": 9,
   "metadata": {},
   "outputs": [
    {
     "data": {
      "text/html": [
       "<div>\n",
       "<style scoped>\n",
       "    .dataframe tbody tr th:only-of-type {\n",
       "        vertical-align: middle;\n",
       "    }\n",
       "\n",
       "    .dataframe tbody tr th {\n",
       "        vertical-align: top;\n",
       "    }\n",
       "\n",
       "    .dataframe thead th {\n",
       "        text-align: right;\n",
       "    }\n",
       "</style>\n",
       "<table border=\"1\" class=\"dataframe\">\n",
       "  <thead>\n",
       "    <tr style=\"text-align: right;\">\n",
       "      <th></th>\n",
       "      <th>SRC_ADD</th>\n",
       "      <th>DES_ADD</th>\n",
       "      <th>PKT_ID</th>\n",
       "      <th>FROM_NODE</th>\n",
       "      <th>TO_NODE</th>\n",
       "      <th>PKT_TYPE</th>\n",
       "      <th>PKT_SIZE</th>\n",
       "      <th>FLAGS</th>\n",
       "      <th>FID</th>\n",
       "      <th>SEQ_NUMBER</th>\n",
       "      <th>...</th>\n",
       "      <th>PKT_RATE</th>\n",
       "      <th>BYTE_RATE</th>\n",
       "      <th>PKT_AVG_SIZE</th>\n",
       "      <th>UTILIZATION</th>\n",
       "      <th>PKT_DELAY</th>\n",
       "      <th>PKT_SEND_TIME</th>\n",
       "      <th>PKT_RESEVED_TIME</th>\n",
       "      <th>FIRST_PKT_SENT</th>\n",
       "      <th>LAST_PKT_RESEVED</th>\n",
       "      <th>PKT_CLASS</th>\n",
       "    </tr>\n",
       "  </thead>\n",
       "  <tbody>\n",
       "    <tr>\n",
       "      <th>687267</th>\n",
       "      <td>24.13</td>\n",
       "      <td>13.00</td>\n",
       "      <td>512158.0</td>\n",
       "      <td>22.0</td>\n",
       "      <td>13.0</td>\n",
       "      <td>0</td>\n",
       "      <td>55.0</td>\n",
       "      <td>0</td>\n",
       "      <td>14.0</td>\n",
       "      <td>14421.0</td>\n",
       "      <td>...</td>\n",
       "      <td>328.460278</td>\n",
       "      <td>18065.3</td>\n",
       "      <td>55.0</td>\n",
       "      <td>0.008446</td>\n",
       "      <td>0.000000</td>\n",
       "      <td>44.912422</td>\n",
       "      <td>44.942432</td>\n",
       "      <td>1.030032</td>\n",
       "      <td>50.055747</td>\n",
       "      <td>1</td>\n",
       "    </tr>\n",
       "    <tr>\n",
       "      <th>1882009</th>\n",
       "      <td>8.10</td>\n",
       "      <td>24.28</td>\n",
       "      <td>280836.0</td>\n",
       "      <td>8.0</td>\n",
       "      <td>21.0</td>\n",
       "      <td>1</td>\n",
       "      <td>1000.0</td>\n",
       "      <td>0</td>\n",
       "      <td>29.0</td>\n",
       "      <td>271.0</td>\n",
       "      <td>...</td>\n",
       "      <td>124.941228</td>\n",
       "      <td>124941.0</td>\n",
       "      <td>1000.0</td>\n",
       "      <td>0.059605</td>\n",
       "      <td>0.001338</td>\n",
       "      <td>27.168000</td>\n",
       "      <td>27.199578</td>\n",
       "      <td>25.000000</td>\n",
       "      <td>75.023520</td>\n",
       "      <td>1</td>\n",
       "    </tr>\n",
       "    <tr>\n",
       "      <th>1040670</th>\n",
       "      <td>1.20</td>\n",
       "      <td>24.43</td>\n",
       "      <td>11296.0</td>\n",
       "      <td>21.0</td>\n",
       "      <td>23.0</td>\n",
       "      <td>1</td>\n",
       "      <td>1500.0</td>\n",
       "      <td>0</td>\n",
       "      <td>22.0</td>\n",
       "      <td>433.0</td>\n",
       "      <td>...</td>\n",
       "      <td>1016.542930</td>\n",
       "      <td>1524810.0</td>\n",
       "      <td>1500.0</td>\n",
       "      <td>0.130291</td>\n",
       "      <td>0.033009</td>\n",
       "      <td>11.532571</td>\n",
       "      <td>11.565580</td>\n",
       "      <td>1.000000</td>\n",
       "      <td>9.959779</td>\n",
       "      <td>4</td>\n",
       "    </tr>\n",
       "    <tr>\n",
       "      <th>441708</th>\n",
       "      <td>7.00</td>\n",
       "      <td>24.70</td>\n",
       "      <td>357359.0</td>\n",
       "      <td>21.0</td>\n",
       "      <td>23.0</td>\n",
       "      <td>3</td>\n",
       "      <td>1540.0</td>\n",
       "      <td>0</td>\n",
       "      <td>8.0</td>\n",
       "      <td>10519.0</td>\n",
       "      <td>...</td>\n",
       "      <td>328.167486</td>\n",
       "      <td>505378.0</td>\n",
       "      <td>1540.0</td>\n",
       "      <td>0.236307</td>\n",
       "      <td>0.000000</td>\n",
       "      <td>33.039264</td>\n",
       "      <td>33.069634</td>\n",
       "      <td>1.000000</td>\n",
       "      <td>50.029842</td>\n",
       "      <td>1</td>\n",
       "    </tr>\n",
       "    <tr>\n",
       "      <th>1269247</th>\n",
       "      <td>24.12</td>\n",
       "      <td>12.00</td>\n",
       "      <td>237981.0</td>\n",
       "      <td>23.0</td>\n",
       "      <td>22.0</td>\n",
       "      <td>0</td>\n",
       "      <td>55.0</td>\n",
       "      <td>0</td>\n",
       "      <td>13.0</td>\n",
       "      <td>7412.0</td>\n",
       "      <td>...</td>\n",
       "      <td>328.491596</td>\n",
       "      <td>18067.0</td>\n",
       "      <td>55.0</td>\n",
       "      <td>0.008446</td>\n",
       "      <td>0.000000</td>\n",
       "      <td>23.618730</td>\n",
       "      <td>23.648739</td>\n",
       "      <td>1.030026</td>\n",
       "      <td>50.051067</td>\n",
       "      <td>1</td>\n",
       "    </tr>\n",
       "  </tbody>\n",
       "</table>\n",
       "<p>5 rows × 28 columns</p>\n",
       "</div>"
      ],
      "text/plain": [
       "         SRC_ADD  DES_ADD    PKT_ID  FROM_NODE  TO_NODE  PKT_TYPE  PKT_SIZE  \\\n",
       "687267     24.13    13.00  512158.0       22.0     13.0         0      55.0   \n",
       "1882009     8.10    24.28  280836.0        8.0     21.0         1    1000.0   \n",
       "1040670     1.20    24.43   11296.0       21.0     23.0         1    1500.0   \n",
       "441708      7.00    24.70  357359.0       21.0     23.0         3    1540.0   \n",
       "1269247    24.12    12.00  237981.0       23.0     22.0         0      55.0   \n",
       "\n",
       "         FLAGS   FID  SEQ_NUMBER  ...     PKT_RATE  BYTE_RATE  PKT_AVG_SIZE  \\\n",
       "687267       0  14.0     14421.0  ...   328.460278    18065.3          55.0   \n",
       "1882009      0  29.0       271.0  ...   124.941228   124941.0        1000.0   \n",
       "1040670      0  22.0       433.0  ...  1016.542930  1524810.0        1500.0   \n",
       "441708       0   8.0     10519.0  ...   328.167486   505378.0        1540.0   \n",
       "1269247      0  13.0      7412.0  ...   328.491596    18067.0          55.0   \n",
       "\n",
       "         UTILIZATION  PKT_DELAY  PKT_SEND_TIME  PKT_RESEVED_TIME  \\\n",
       "687267      0.008446   0.000000      44.912422         44.942432   \n",
       "1882009     0.059605   0.001338      27.168000         27.199578   \n",
       "1040670     0.130291   0.033009      11.532571         11.565580   \n",
       "441708      0.236307   0.000000      33.039264         33.069634   \n",
       "1269247     0.008446   0.000000      23.618730         23.648739   \n",
       "\n",
       "         FIRST_PKT_SENT  LAST_PKT_RESEVED  PKT_CLASS  \n",
       "687267         1.030032         50.055747          1  \n",
       "1882009       25.000000         75.023520          1  \n",
       "1040670        1.000000          9.959779          4  \n",
       "441708         1.000000         50.029842          1  \n",
       "1269247        1.030026         50.051067          1  \n",
       "\n",
       "[5 rows x 28 columns]"
      ]
     },
     "execution_count": 9,
     "metadata": {},
     "output_type": "execute_result"
    }
   ],
   "source": [
    "df.sample(5)"
   ]
  },
  {
   "cell_type": "code",
   "execution_count": 10,
   "metadata": {},
   "outputs": [
    {
     "data": {
      "text/plain": [
       "SRC_ADD             float64\n",
       "DES_ADD             float64\n",
       "PKT_ID              float64\n",
       "FROM_NODE           float64\n",
       "TO_NODE             float64\n",
       "PKT_TYPE              int64\n",
       "PKT_SIZE            float64\n",
       "FLAGS                 int64\n",
       "FID                 float64\n",
       "SEQ_NUMBER          float64\n",
       "NUMBER_OF_PKT       float64\n",
       "NUMBER_OF_BYTE      float64\n",
       "NODE_NAME_FROM        int64\n",
       "NODE_NAME_TO          int64\n",
       "PKT_IN              float64\n",
       "PKT_OUT             float64\n",
       "PKT_R               float64\n",
       "PKT_DELAY_NODE      float64\n",
       "PKT_RATE            float64\n",
       "BYTE_RATE           float64\n",
       "PKT_AVG_SIZE        float64\n",
       "UTILIZATION         float64\n",
       "PKT_DELAY           float64\n",
       "PKT_SEND_TIME       float64\n",
       "PKT_RESEVED_TIME    float64\n",
       "FIRST_PKT_SENT      float64\n",
       "LAST_PKT_RESEVED    float64\n",
       "PKT_CLASS             int64\n",
       "dtype: object"
      ]
     },
     "execution_count": 10,
     "metadata": {},
     "output_type": "execute_result"
    }
   ],
   "source": [
    "df.dtypes"
   ]
  },
  {
   "cell_type": "code",
   "execution_count": 11,
   "metadata": {},
   "outputs": [
    {
     "data": {
      "text/plain": [
       "SRC_ADD             2160668\n",
       "DES_ADD             2160668\n",
       "PKT_ID              2160668\n",
       "FROM_NODE           2160668\n",
       "TO_NODE             2160668\n",
       "PKT_TYPE            2160668\n",
       "PKT_SIZE            2160668\n",
       "FLAGS               2160668\n",
       "FID                 2160668\n",
       "SEQ_NUMBER          2160668\n",
       "NUMBER_OF_PKT       2160668\n",
       "NUMBER_OF_BYTE      2160668\n",
       "NODE_NAME_FROM      2160668\n",
       "NODE_NAME_TO        2160668\n",
       "PKT_IN              2160668\n",
       "PKT_OUT             2160668\n",
       "PKT_R               2160668\n",
       "PKT_DELAY_NODE      2160668\n",
       "PKT_RATE            2160668\n",
       "BYTE_RATE           2160668\n",
       "PKT_AVG_SIZE        2160668\n",
       "UTILIZATION         2160668\n",
       "PKT_DELAY           2160668\n",
       "PKT_SEND_TIME       2160668\n",
       "PKT_RESEVED_TIME    2160668\n",
       "FIRST_PKT_SENT      2160668\n",
       "LAST_PKT_RESEVED    2160668\n",
       "PKT_CLASS           2160668\n",
       "dtype: int64"
      ]
     },
     "execution_count": 11,
     "metadata": {},
     "output_type": "execute_result"
    }
   ],
   "source": [
    "# df.isnull().values.any()\n",
    "df.count()"
   ]
  },
  {
   "cell_type": "code",
   "execution_count": 12,
   "metadata": {},
   "outputs": [],
   "source": [
    "X = df.iloc[:,:27]\n",
    "y = df.iloc[:,27]"
   ]
  },
  {
   "cell_type": "code",
   "execution_count": 13,
   "metadata": {},
   "outputs": [
    {
     "data": {
      "text/plain": [
       "2004133    1\n",
       "1460577    4\n",
       "Name: PKT_CLASS, dtype: int64"
      ]
     },
     "execution_count": 13,
     "metadata": {},
     "output_type": "execute_result"
    }
   ],
   "source": [
    "y.sample(2)"
   ]
  },
  {
   "cell_type": "code",
   "execution_count": 14,
   "metadata": {},
   "outputs": [],
   "source": [
    "from sklearn.model_selection import train_test_split\n",
    "X_train, X_test, y_train, y_test = train_test_split(X, y, test_size=0.2, random_state=42)"
   ]
  },
  {
   "cell_type": "code",
   "execution_count": 15,
   "metadata": {},
   "outputs": [],
   "source": [
    "from sklearn.svm import SVC\n",
    "svm = SVC()"
   ]
  },
  {
   "cell_type": "code",
   "execution_count": 16,
   "metadata": {},
   "outputs": [],
   "source": [
    "# svm.fit(X_train, y_train)"
   ]
  },
  {
   "cell_type": "code",
   "execution_count": 20,
   "metadata": {},
   "outputs": [
    {
     "data": {
      "text/plain": [
       "62287.0     9\n",
       "74459.0     9\n",
       "79213.0     9\n",
       "68187.0     9\n",
       "61001.0     9\n",
       "68189.0     9\n",
       "57852.0     9\n",
       "68191.0     9\n",
       "79215.0     9\n",
       "68193.0     9\n",
       "57850.0     9\n",
       "64006.0     9\n",
       "16.0        9\n",
       "22.0        9\n",
       "79217.0     9\n",
       "66215.0     9\n",
       "79219.0     9\n",
       "64004.0     9\n",
       "79221.0     9\n",
       "68185.0     9\n",
       "57855.0     9\n",
       "68183.0     9\n",
       "57864.0     9\n",
       "74495.0     9\n",
       "57868.0     9\n",
       "74493.0     9\n",
       "57867.0     9\n",
       "74491.0     9\n",
       "57866.0     9\n",
       "57865.0     9\n",
       "           ..\n",
       "506345.0    3\n",
       "506346.0    3\n",
       "506347.0    3\n",
       "506348.0    3\n",
       "506349.0    3\n",
       "506350.0    3\n",
       "506351.0    3\n",
       "506352.0    3\n",
       "506353.0    3\n",
       "506354.0    3\n",
       "506355.0    3\n",
       "506356.0    3\n",
       "506357.0    3\n",
       "506358.0    3\n",
       "506365.0    3\n",
       "506371.0    3\n",
       "506370.0    3\n",
       "506369.0    3\n",
       "506368.0    3\n",
       "506367.0    3\n",
       "506366.0    3\n",
       "506364.0    3\n",
       "506359.0    3\n",
       "506363.0    3\n",
       "506362.0    3\n",
       "506361.0    3\n",
       "506360.0    3\n",
       "451394.0    3\n",
       "3155.0      2\n",
       "4027.0      2\n",
       "Name: PKT_ID, Length: 641600, dtype: int64"
      ]
     },
     "execution_count": 20,
     "metadata": {},
     "output_type": "execute_result"
    }
   ],
   "source": [
    "df.PKT_ID.value_counts()"
   ]
  },
  {
   "cell_type": "code",
   "execution_count": 21,
   "metadata": {},
   "outputs": [
    {
     "data": {
      "text/plain": [
       "641600"
      ]
     },
     "execution_count": 21,
     "metadata": {},
     "output_type": "execute_result"
    }
   ],
   "source": [
    "df.PKT_ID.nunique()"
   ]
  },
  {
   "cell_type": "code",
   "execution_count": null,
   "metadata": {},
   "outputs": [],
   "source": []
  }
 ],
 "metadata": {
  "kernelspec": {
   "display_name": "Python 3",
   "language": "python",
   "name": "python3"
  },
  "language_info": {
   "codemirror_mode": {
    "name": "ipython",
    "version": 3
   },
   "file_extension": ".py",
   "mimetype": "text/x-python",
   "name": "python",
   "nbconvert_exporter": "python",
   "pygments_lexer": "ipython3",
   "version": "3.5.2"
  }
 },
 "nbformat": 4,
 "nbformat_minor": 2
}
